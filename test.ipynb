{
 "cells": [
  {
   "attachments": {},
   "cell_type": "markdown",
   "metadata": {},
   "source": [
    "# Testing and Working "
   ]
  },
  {
   "attachments": {},
   "cell_type": "markdown",
   "metadata": {},
   "source": [
    "## Converting files"
   ]
  },
  {
   "cell_type": "code",
   "execution_count": 1,
   "metadata": {},
   "outputs": [],
   "source": [
    "import pandas as pd"
   ]
  },
  {
   "cell_type": "code",
   "execution_count": 2,
   "metadata": {},
   "outputs": [
    {
     "name": "stderr",
     "output_type": "stream",
     "text": [
      "C:\\Users\\srive\\AppData\\Local\\Temp\\ipykernel_8672\\3396553412.py:1: DtypeWarning: Columns (4,5,7) have mixed types. Specify dtype option on import or set low_memory=False.\n",
      "  df = pd.read_csv('./data/2023q1/num.txt',sep='\\t', header=None)\n",
      "C:\\Users\\srive\\AppData\\Local\\Temp\\ipykernel_8672\\3396553412.py:4: DtypeWarning: Columns (1,2,4,9) have mixed types. Specify dtype option on import or set low_memory=False.\n",
      "  df = pd.read_csv('./data/2023q1/pre.txt',sep='\\t', header=None)\n",
      "C:\\Users\\srive\\AppData\\Local\\Temp\\ipykernel_8672\\3396553412.py:7: DtypeWarning: Columns (1,3,19,21,23,24,26,27,29,31,32,34) have mixed types. Specify dtype option on import or set low_memory=False.\n",
      "  df = pd.read_csv('./data/2023q1/sub.txt',sep='\\t', header=None)\n",
      "C:\\Users\\srive\\AppData\\Local\\Temp\\ipykernel_8672\\3396553412.py:10: DtypeWarning: Columns (2,3) have mixed types. Specify dtype option on import or set low_memory=False.\n",
      "  df = pd.read_csv('./data/2023q1/tag.txt',sep='\\t', header=None)\n"
     ]
    }
   ],
   "source": [
    "df = pd.read_csv('./data/2023q1/num.txt',sep='\\t', header=None)\n",
    "df.to_csv('./data/2023q1/num.csv', header=None)\n",
    "\n",
    "df = pd.read_csv('./data/2023q1/pre.txt',sep='\\t', header=None)\n",
    "df.to_csv('./data/2023q1/pre.csv', header=None)\n",
    "\n",
    "df = pd.read_csv('./data/2023q1/sub.txt',sep='\\t', header=None)\n",
    "df.to_csv('./data/2023q1/sub.csv', header=None)\n",
    "\n",
    "df = pd.read_csv('./data/2023q1/tag.txt',sep='\\t', header=None)\n",
    "df.to_csv('./data/2023q1/tag.csv', header=None)"
   ]
  },
  {
   "attachments": {},
   "cell_type": "markdown",
   "metadata": {},
   "source": [
    "## Work 2 "
   ]
  },
  {
   "cell_type": "code",
   "execution_count": 3,
   "metadata": {},
   "outputs": [],
   "source": [
    "import pandas as pd\n",
    "import os"
   ]
  },
  {
   "cell_type": "code",
   "execution_count": 4,
   "metadata": {},
   "outputs": [],
   "source": [
    "\n",
    " \n",
    "# assign path\n",
    "path, dirs, files = next(os.walk(\"./data/2023q1/\"))\n",
    "file_count = len(files)\n",
    "# create empty list\n",
    "dataframes_list = []\n",
    " \n",
    "# append datasets to the list\n",
    "for i in range(file_count):\n",
    "    if \"csv\" in files[i]:\n",
    "        temp_df = pd.read_csv('data/2023q1/'+files[i],on_bad_lines='skip')\n",
    "        dataframes_list.append(temp_df)\n",
    "   "
   ]
  },
  {
   "cell_type": "code",
   "execution_count": null,
   "metadata": {},
   "outputs": [],
   "source": []
  },
  {
   "cell_type": "code",
   "execution_count": 5,
   "metadata": {},
   "outputs": [],
   "source": [
    "df_num = dataframes_list[0]\n",
    "df_pre = dataframes_list[1]\n",
    "df_sub = dataframes_list[2]\n",
    "df_tag = dataframes_list[3]"
   ]
  },
  {
   "cell_type": "code",
   "execution_count": 6,
   "metadata": {},
   "outputs": [],
   "source": [
    "df = df_num"
   ]
  },
  {
   "cell_type": "code",
   "execution_count": 7,
   "metadata": {},
   "outputs": [
    {
     "data": {
      "text/plain": [
       "uom\n",
       "USD                     2815496\n",
       "shares                   177161\n",
       "pure                     142615\n",
       "CAD                       35694\n",
       "EUR                       34578\n",
       "                         ...   \n",
       "goal                          1\n",
       "geographic_area               1\n",
       "geographicRegion              1\n",
       "genericPrescriptionP          1\n",
       "line_of_credit                1\n",
       "Length: 2177, dtype: int64"
      ]
     },
     "execution_count": 7,
     "metadata": {},
     "output_type": "execute_result"
    }
   ],
   "source": [
    "df['uom']\n",
    "\n",
    "df.value_counts('uom')"
   ]
  },
  {
   "cell_type": "code",
   "execution_count": 12,
   "metadata": {},
   "outputs": [
    {
     "data": {
      "text/plain": [
       "Index(['0', 'adsh', 'tag', 'version', 'coreg', 'ddate', 'qtrs', 'uom', 'value',\n",
       "       'footnote'],\n",
       "      dtype='object')"
      ]
     },
     "execution_count": 12,
     "metadata": {},
     "output_type": "execute_result"
    }
   ],
   "source": [
    "df.columns"
   ]
  },
  {
   "cell_type": "code",
   "execution_count": 13,
   "metadata": {},
   "outputs": [
    {
     "data": {
      "text/plain": [
       "<bound method NDFrame.head of                0                  adsh  \\\n",
       "0              1  0001193125-23-031180   \n",
       "1              2  0001193125-23-031180   \n",
       "2              3  0001193125-23-031180   \n",
       "3              4  0001193125-23-031180   \n",
       "4              5  0001193125-23-031180   \n",
       "...          ...                   ...   \n",
       "3293688  3293689  0001493152-23-010334   \n",
       "3293689  3293690  0001493152-23-010334   \n",
       "3293690  3293691  0001493152-23-010334   \n",
       "3293691  3293692  0001493152-23-010334   \n",
       "3293692  3293693  0001493152-23-010334   \n",
       "\n",
       "                                                       tag  \\\n",
       "0        AccountsAndFinancingReceivableAllowanceForCred...   \n",
       "1        AccountsAndFinancingReceivableAllowanceForCred...   \n",
       "2        AccountsAndFinancingReceivableAllowanceForCred...   \n",
       "3        AccountsAndFinancingReceivableAllowanceForCred...   \n",
       "4        AccountsAndFinancingReceivableAllowanceForCred...   \n",
       "...                                                    ...   \n",
       "3293688                  TerminationOfRightOfUseLeaseAsset   \n",
       "3293689                  TerminationOfRightOfUseLeaseAsset   \n",
       "3293690              TerminationOfRightOfUseLeaseLiability   \n",
       "3293691              TerminationOfRightOfUseLeaseLiability   \n",
       "3293692                                 WarrantsPercentage   \n",
       "\n",
       "                      version                      coreg     ddate  qtrs  \\\n",
       "0                us-gaap/2021                        NaN  20210331     0   \n",
       "1                us-gaap/2021                        NaN  20210930     0   \n",
       "2                us-gaap/2021                        NaN  20211231     0   \n",
       "3                us-gaap/2021                        NaN  20220331     0   \n",
       "4                us-gaap/2021                        NaN  20220930     0   \n",
       "...                       ...                        ...       ...   ...   \n",
       "3293688  0001493152-23-010334                        NaN  20221231     4   \n",
       "3293689  0001493152-23-010334                        NaN  20211231     4   \n",
       "3293690  0001493152-23-010334                        NaN  20221231     4   \n",
       "3293691  0001493152-23-010334                        NaN  20211231     4   \n",
       "3293692  0001493152-23-010334  AlsetInternationalLimited  20221231     4   \n",
       "\n",
       "          uom         value footnote  \n",
       "0         JPY  1.200000e+08      NaN  \n",
       "1         JPY  1.210000e+08      NaN  \n",
       "2         JPY  1.240000e+08      NaN  \n",
       "3         JPY  1.530000e+08      NaN  \n",
       "4         JPY  1.720000e+08      NaN  \n",
       "...       ...           ...      ...  \n",
       "3293688   USD           NaN      NaN  \n",
       "3293689   USD -7.440000e+05      NaN  \n",
       "3293690   USD           NaN      NaN  \n",
       "3293691   USD  7.440000e+05      NaN  \n",
       "3293692  pure  4.000000e-02      NaN  \n",
       "\n",
       "[3293693 rows x 10 columns]>"
      ]
     },
     "execution_count": 13,
     "metadata": {},
     "output_type": "execute_result"
    }
   ],
   "source": [
    "df.head"
   ]
  },
  {
   "cell_type": "code",
   "execution_count": 16,
   "metadata": {},
   "outputs": [
    {
     "data": {
      "text/plain": [
       "<bound method NDFrame.head of                0                  adsh  report  line stmt  inpth rfile  \\\n",
       "0              1  0001023459-23-000011       2    10   BS      0     H   \n",
       "1              2  0001037038-23-000009       2    11   BS      0     H   \n",
       "2              3  0001104659-23-020700       2     5   BS      0     H   \n",
       "3              4  0001002910-23-000053       9     9   UN      0     H   \n",
       "4              5  0001002910-23-000053       7     9   UN      0     H   \n",
       "...          ...                   ...     ...   ...  ...    ...   ...   \n",
       "1323122  1323123  0001493152-23-010294       5    29   EQ      0     H   \n",
       "1323123  1323124  0001493152-23-010294       5    28   EQ      0     H   \n",
       "1323124  1323125  0001493152-23-010294       5    18   EQ      0     H   \n",
       "1323125  1323126  0001493152-23-010294       5    14   EQ      0     H   \n",
       "1323126  1323127  0001493152-23-010294       5    15   EQ      0     H   \n",
       "\n",
       "                                                   tag               version  \\\n",
       "0                         AccountsReceivableNetCurrent          us-gaap/2021   \n",
       "1                         AccountsReceivableNetCurrent          us-gaap/2021   \n",
       "2                         AccountsReceivableNetCurrent          us-gaap/2021   \n",
       "3                         AccountsReceivableNetCurrent          us-gaap/2021   \n",
       "4                         AccountsReceivableNetCurrent          us-gaap/2021   \n",
       "...                                                ...                   ...   \n",
       "1323122   StockIssuedDuringPeriodSharesWarrantExercise  0001493152-23-010294   \n",
       "1323123    StockIssuedDuringPeriodValueWarrantExercise  0001493152-23-010294   \n",
       "1323124  StockIssuedForServicesAndSubscriptionsPayable  0001493152-23-010294   \n",
       "1323125                            StockSplitProvision  0001493152-23-010294   \n",
       "1323126                      StockSplitProvisionShares  0001493152-23-010294   \n",
       "\n",
       "                                                    plabel  negating  \n",
       "0        Accounts receivable, net of allowance for doub...         0  \n",
       "1        Accounts receivable, net of allowances of $184...         0  \n",
       "2                                 Accounts receivable, net         0  \n",
       "3        Accounts receivable - trade (less allowance fo...         0  \n",
       "4        Accounts receivable - trade (less allowance fo...         0  \n",
       "...                                                    ...       ...  \n",
       "1323122                           Warrant exercise, shares         0  \n",
       "1323123                         Warrant exercise (note 23)         0  \n",
       "1323124    Issuance for services and subscriptions payable         0  \n",
       "1323125                              Stock split provision         0  \n",
       "1323126                      Stock split provision, shares         0  \n",
       "\n",
       "[1323127 rows x 11 columns]>"
      ]
     },
     "execution_count": 16,
     "metadata": {},
     "output_type": "execute_result"
    }
   ],
   "source": [
    "df_num.head\n",
    "df_pre.head\n"
   ]
  },
  {
   "cell_type": "code",
   "execution_count": 17,
   "metadata": {},
   "outputs": [
    {
     "data": {
      "text/plain": [
       "<bound method NDFrame.head of            0                  adsh      cik  \\\n",
       "0          1  0000004457-23-000026     4457   \n",
       "1          2  0000005272-23-000014     5272   \n",
       "2          3  0000062709-23-000021    62709   \n",
       "3          4  0000063908-23-000017    63908   \n",
       "4          5  0000065984-23-000027    65984   \n",
       "...      ...                   ...      ...   \n",
       "25937  25938  0001802457-23-000004  1802457   \n",
       "25938  25939  0001807707-23-000004  1807707   \n",
       "25939  25940  0001830210-23-000004  1830210   \n",
       "25940  25941  0001861449-23-000002  1861449   \n",
       "25941  25942  0001874178-23-000004  1874178   \n",
       "\n",
       "                                     name     sic countryba stprba  \\\n",
       "0                  U-HAUL HOLDING CO /NV/  7510.0        US     NV   \n",
       "1      AMERICAN INTERNATIONAL GROUP, INC.  6331.0        US     NY   \n",
       "2        MARSH & MCLENNAN COMPANIES, INC.  6411.0        US     NY   \n",
       "3                          MCDONALDS CORP  5812.0        US     IL   \n",
       "4                       ENTERGY CORP /DE/  4911.0        US     LA   \n",
       "...                                   ...     ...       ...    ...   \n",
       "25937              ORIGIN MATERIALS, INC.  2860.0        US     CA   \n",
       "25938                    APPHARVEST, INC.   100.0        US     KY   \n",
       "25939                   BENSON HILL, INC.  2000.0        US     MO   \n",
       "25940                   BIRD GLOBAL, INC.  3751.0        US     FL   \n",
       "25941        RIVIAN AUTOMOTIVE, INC. / DE  3711.0        US     CA   \n",
       "\n",
       "                cityba       zipba                         bas1  ...  \\\n",
       "0                 RENO       89511    5555 KIETZKE LANE STE 100  ...   \n",
       "1             NEW YORK  10020-1304     1271 AVE OF THE AMERICAS  ...   \n",
       "2             NEW YORK       10036  1166 AVENUE OF THE AMERICAS  ...   \n",
       "3              CHICAGO       60607   110 NORTH CARPENTER STREET  ...   \n",
       "4          NEW ORLEANS       70113               639 LOYOLA AVE  ...   \n",
       "...                ...         ...                          ...  ...   \n",
       "25937  WEST SACRAMENTO       95605        930 RIVERSIDE PARKWAY  ...   \n",
       "25938         MOREHEAD       40351          500 APPALACHIAN WAY  ...   \n",
       "25939        ST. LOUIS       63132           1001 N. WARSON RD.  ...   \n",
       "25940            MIAMI       33179  392 NE 191ST STREET # 20388  ...   \n",
       "25941           IRVINE       92618            14600 MYFORD ROAD  ...   \n",
       "\n",
       "           period  fy   fp     filed               accepted prevrpt detail  \\\n",
       "0      20230331.0 NaN  NaN  20230329  2023-03-29 16:05:00.0       0      0   \n",
       "1             NaN NaN  NaN  20230329  2023-03-29 16:44:00.0       0      0   \n",
       "2      20230331.0 NaN  NaN  20230329  2023-03-29 16:04:00.0       0      0   \n",
       "3      20230331.0 NaN  NaN  20230329  2023-03-29 16:34:00.0       0      0   \n",
       "4      20230331.0 NaN  NaN  20230329  2023-03-29 12:12:00.0       0      0   \n",
       "...           ...  ..  ...       ...                    ...     ...    ...   \n",
       "25937  20221231.0 NaN  NaN  20230103  2023-01-03 17:29:00.0       0      0   \n",
       "25938  20221231.0 NaN  NaN  20230103  2023-01-03 16:03:00.0       0      0   \n",
       "25939  20221231.0 NaN  NaN  20230103  2023-01-03 17:02:00.0       1      0   \n",
       "25940  20221231.0 NaN  NaN  20230103  2023-01-03 17:23:00.0       0      0   \n",
       "25941  20221231.0 NaN  NaN  20230103  2023-01-03 16:42:00.0       0      0   \n",
       "\n",
       "                    instance nciks    aciks  \n",
       "0      uhal-20230323_htm.xml     1      NaN  \n",
       "1       aig-20230329_htm.xml     1      NaN  \n",
       "2       mmc-20230329_htm.xml     1      NaN  \n",
       "3       mcd-20230327_htm.xml     1      NaN  \n",
       "4       etr-20230329_htm.xml     2  1348952  \n",
       "...                      ...   ...      ...  \n",
       "25937  orgn-20230103_htm.xml     1      NaN  \n",
       "25938  apph-20221229_htm.xml     1      NaN  \n",
       "25939  bhil-20221229_htm.xml     1      NaN  \n",
       "25940  brds-20221229_htm.xml     1      NaN  \n",
       "25941  rivn-20230103_htm.xml     1      NaN  \n",
       "\n",
       "[25942 rows x 37 columns]>"
      ]
     },
     "execution_count": 17,
     "metadata": {},
     "output_type": "execute_result"
    }
   ],
   "source": [
    "df_sub.head\n"
   ]
  },
  {
   "cell_type": "code",
   "execution_count": 18,
   "metadata": {},
   "outputs": [
    {
     "data": {
      "text/plain": [
       "<bound method NDFrame.head of              0                                              tag  \\\n",
       "0            1            AccountingStandardsUpdate201613Member   \n",
       "1            2            AccountingStandardsUpdate201409Member   \n",
       "2            3                                   StatementTable   \n",
       "3            4                             SecurityExchangeName   \n",
       "4            5                                 LocalPhoneNumber   \n",
       "...        ...                                              ...   \n",
       "136543  136544                               RentalIncomeMember   \n",
       "136544  136545  StockIssuedDuringPeriodSharesStockBasedPayments   \n",
       "136545  136546          StockIssuedDuringPeriodValueAcquisition   \n",
       "136546  136547      StockIssuedDuringPeriodValueAcquisitionsOne   \n",
       "136547  136548   StockIssuedDuringPeriodValueStockBasedPayments   \n",
       "\n",
       "                     version  custom  abstract           datatype iord crdr  \\\n",
       "0               us-gaap/2021       0         1             member  NaN  NaN   \n",
       "1               us-gaap/2021       0         1             member  NaN  NaN   \n",
       "2               us-gaap/2021       0         1                NaN  NaN  NaN   \n",
       "3                   dei/2021       0         0  edgarExchangeCode    D  NaN   \n",
       "4                   dei/2021       0         0   normalizedString    D  NaN   \n",
       "...                      ...     ...       ...                ...  ...  ...   \n",
       "136543  0001493152-23-010334       1         0             member    D  NaN   \n",
       "136544  0001493152-23-010334       1         0             shares    D  NaN   \n",
       "136545  0001493152-23-010334       1         0           monetary    D    C   \n",
       "136546  0001493152-23-010334       1         0           monetary    D    C   \n",
       "136547  0001493152-23-010334       1         0           monetary    D    C   \n",
       "\n",
       "                                              tlabel  \\\n",
       "0       Accounting Standards Update 2016-13 [Member]   \n",
       "1       Accounting Standards Update 2014-09 [Member]   \n",
       "2                                  Statement [Table]   \n",
       "3                             Security Exchange Name   \n",
       "4                                 Local Phone Number   \n",
       "...                                              ...   \n",
       "136543                        Rental Income [Member]   \n",
       "136544                  Stock based payments, shares   \n",
       "136545   Acquisition of Sentinel Brokers Company Inc   \n",
       "136546   StockIssuedDuringPeriodValueAcquisitionsOne   \n",
       "136547                          Stock based payments   \n",
       "\n",
       "                                                      doc  \n",
       "0       Accounting Standards Update 2016-13 Financial ...  \n",
       "1       Accounting Standards Update 2014-09 Revenue fr...  \n",
       "2       Schedule reflecting a Statement of Income, Sta...  \n",
       "3       Name of the Exchange on which a security is re...  \n",
       "4                          Local phone number for entity.  \n",
       "...                                                   ...  \n",
       "136543                             Rental Income [Member]  \n",
       "136544                                                NaN  \n",
       "136545      Stock issued during period value acquisition.  \n",
       "136546  Stock issued during period value acquisitions ...  \n",
       "136547                                                NaN  \n",
       "\n",
       "[136548 rows x 10 columns]>"
      ]
     },
     "execution_count": 18,
     "metadata": {},
     "output_type": "execute_result"
    }
   ],
   "source": [
    "df_tag.head"
   ]
  },
  {
   "cell_type": "code",
   "execution_count": 35,
   "metadata": {},
   "outputs": [],
   "source": [
    "df_cik_name = df_sub[['cik','name','instance','adsh']]"
   ]
  },
  {
   "cell_type": "code",
   "execution_count": 31,
   "metadata": {},
   "outputs": [
    {
     "data": {
      "text/plain": [
       "0           uhal-20230323_htm.xml\n",
       "1            aig-20230329_htm.xml\n",
       "2            mmc-20230329_htm.xml\n",
       "3            mcd-20230327_htm.xml\n",
       "4            etr-20230329_htm.xml\n",
       "                    ...          \n",
       "25938       apph-20221229_htm.xml\n",
       "25939       bhil-20221229_htm.xml\n",
       "25940       brds-20221229_htm.xml\n",
       "25941       rivn-20230103_htm.xml\n",
       "instance                      NaN\n",
       "Name: instance, Length: 25943, dtype: object"
      ]
     },
     "execution_count": 31,
     "metadata": {},
     "output_type": "execute_result"
    }
   ],
   "source": [
    "df_cik_name['instance']\n"
   ]
  },
  {
   "cell_type": "code",
   "execution_count": 30,
   "metadata": {},
   "outputs": [],
   "source": [
    "df_cik_name.loc['instance'] = df_cik_name.loc['instance'].str.rstrip(\"-\")"
   ]
  },
  {
   "cell_type": "code",
   "execution_count": 32,
   "metadata": {},
   "outputs": [],
   "source": [
    "#todo : dor strip and get ticker"
   ]
  },
  {
   "cell_type": "code",
   "execution_count": 49,
   "metadata": {},
   "outputs": [
    {
     "ename": "KeyError",
     "evalue": "'stmt'",
     "output_type": "error",
     "traceback": [
      "\u001b[1;31m---------------------------------------------------------------------------\u001b[0m",
      "\u001b[1;31mKeyError\u001b[0m                                  Traceback (most recent call last)",
      "File \u001b[1;32mc:\\Users\\srive\\anaconda3\\lib\\site-packages\\pandas\\core\\indexes\\base.py:3802\u001b[0m, in \u001b[0;36mIndex.get_loc\u001b[1;34m(self, key, method, tolerance)\u001b[0m\n\u001b[0;32m   3801\u001b[0m \u001b[39mtry\u001b[39;00m:\n\u001b[1;32m-> 3802\u001b[0m     \u001b[39mreturn\u001b[39;00m \u001b[39mself\u001b[39;49m\u001b[39m.\u001b[39;49m_engine\u001b[39m.\u001b[39;49mget_loc(casted_key)\n\u001b[0;32m   3803\u001b[0m \u001b[39mexcept\u001b[39;00m \u001b[39mKeyError\u001b[39;00m \u001b[39mas\u001b[39;00m err:\n",
      "File \u001b[1;32mc:\\Users\\srive\\anaconda3\\lib\\site-packages\\pandas\\_libs\\index.pyx:138\u001b[0m, in \u001b[0;36mpandas._libs.index.IndexEngine.get_loc\u001b[1;34m()\u001b[0m\n",
      "File \u001b[1;32mc:\\Users\\srive\\anaconda3\\lib\\site-packages\\pandas\\_libs\\index.pyx:165\u001b[0m, in \u001b[0;36mpandas._libs.index.IndexEngine.get_loc\u001b[1;34m()\u001b[0m\n",
      "File \u001b[1;32mpandas\\_libs\\hashtable_class_helper.pxi:5745\u001b[0m, in \u001b[0;36mpandas._libs.hashtable.PyObjectHashTable.get_item\u001b[1;34m()\u001b[0m\n",
      "File \u001b[1;32mpandas\\_libs\\hashtable_class_helper.pxi:5753\u001b[0m, in \u001b[0;36mpandas._libs.hashtable.PyObjectHashTable.get_item\u001b[1;34m()\u001b[0m\n",
      "\u001b[1;31mKeyError\u001b[0m: 'stmt'",
      "\nThe above exception was the direct cause of the following exception:\n",
      "\u001b[1;31mKeyError\u001b[0m                                  Traceback (most recent call last)",
      "Cell \u001b[1;32mIn[49], line 1\u001b[0m\n\u001b[1;32m----> 1\u001b[0m \u001b[39mfor\u001b[39;00m i \u001b[39min\u001b[39;00m df[\u001b[39m'\u001b[39;49m\u001b[39mstmt\u001b[39;49m\u001b[39m'\u001b[39;49m]\u001b[39m.\u001b[39munique():\n\u001b[0;32m      2\u001b[0m     \u001b[39mprint\u001b[39m(i)\n\u001b[0;32m      4\u001b[0m \u001b[39mprint\u001b[39m(\u001b[39mlen\u001b[39m(df[\u001b[39m'\u001b[39m\u001b[39mstmt\u001b[39m\u001b[39m'\u001b[39m]\u001b[39m.\u001b[39munique()))\n",
      "File \u001b[1;32mc:\\Users\\srive\\anaconda3\\lib\\site-packages\\pandas\\core\\frame.py:3807\u001b[0m, in \u001b[0;36mDataFrame.__getitem__\u001b[1;34m(self, key)\u001b[0m\n\u001b[0;32m   3805\u001b[0m \u001b[39mif\u001b[39;00m \u001b[39mself\u001b[39m\u001b[39m.\u001b[39mcolumns\u001b[39m.\u001b[39mnlevels \u001b[39m>\u001b[39m \u001b[39m1\u001b[39m:\n\u001b[0;32m   3806\u001b[0m     \u001b[39mreturn\u001b[39;00m \u001b[39mself\u001b[39m\u001b[39m.\u001b[39m_getitem_multilevel(key)\n\u001b[1;32m-> 3807\u001b[0m indexer \u001b[39m=\u001b[39m \u001b[39mself\u001b[39;49m\u001b[39m.\u001b[39;49mcolumns\u001b[39m.\u001b[39;49mget_loc(key)\n\u001b[0;32m   3808\u001b[0m \u001b[39mif\u001b[39;00m is_integer(indexer):\n\u001b[0;32m   3809\u001b[0m     indexer \u001b[39m=\u001b[39m [indexer]\n",
      "File \u001b[1;32mc:\\Users\\srive\\anaconda3\\lib\\site-packages\\pandas\\core\\indexes\\base.py:3804\u001b[0m, in \u001b[0;36mIndex.get_loc\u001b[1;34m(self, key, method, tolerance)\u001b[0m\n\u001b[0;32m   3802\u001b[0m     \u001b[39mreturn\u001b[39;00m \u001b[39mself\u001b[39m\u001b[39m.\u001b[39m_engine\u001b[39m.\u001b[39mget_loc(casted_key)\n\u001b[0;32m   3803\u001b[0m \u001b[39mexcept\u001b[39;00m \u001b[39mKeyError\u001b[39;00m \u001b[39mas\u001b[39;00m err:\n\u001b[1;32m-> 3804\u001b[0m     \u001b[39mraise\u001b[39;00m \u001b[39mKeyError\u001b[39;00m(key) \u001b[39mfrom\u001b[39;00m \u001b[39merr\u001b[39;00m\n\u001b[0;32m   3805\u001b[0m \u001b[39mexcept\u001b[39;00m \u001b[39mTypeError\u001b[39;00m:\n\u001b[0;32m   3806\u001b[0m     \u001b[39m# If we have a listlike key, _check_indexing_error will raise\u001b[39;00m\n\u001b[0;32m   3807\u001b[0m     \u001b[39m#  InvalidIndexError. Otherwise we fall through and re-raise\u001b[39;00m\n\u001b[0;32m   3808\u001b[0m     \u001b[39m#  the TypeError.\u001b[39;00m\n\u001b[0;32m   3809\u001b[0m     \u001b[39mself\u001b[39m\u001b[39m.\u001b[39m_check_indexing_error(key)\n",
      "\u001b[1;31mKeyError\u001b[0m: 'stmt'"
     ]
    }
   ],
   "source": [
    "for i in df['tag'].unique():\n",
    "    print(i)\n",
    "\n",
    "print(len(df['tag'].unique()))"
   ]
  },
  {
   "cell_type": "code",
   "execution_count": 51,
   "metadata": {},
   "outputs": [
    {
     "name": "stdout",
     "output_type": "stream",
     "text": [
      "BS\n",
      "UN\n",
      "EQ\n",
      "CF\n",
      "CP\n",
      "IS\n",
      "CI\n",
      "SI\n",
      "8\n"
     ]
    },
    {
     "data": {
      "text/plain": [
       "'\\nBS = Balance Sheet, \\nIS = Income Statement,\\nCF = Cash Flow, \\nEQ = Equity, \\nCI = Comprehensive Income, \\nUN = Unclassifiable Statement, \\nCP = Cover Page\\n'"
      ]
     },
     "execution_count": 51,
     "metadata": {},
     "output_type": "execute_result"
    }
   ],
   "source": [
    "for i in df_pre['stmt'].unique():\n",
    "    print(i)\n",
    "print(len(df_pre['stmt'].unique()))\n",
    "\n",
    "\n",
    "\"\"\"\n",
    "BS = Balance Sheet, \n",
    "IS = Income Statement,\n",
    "CF = Cash Flow, \n",
    "EQ = Equity, \n",
    "CI = Comprehensive Income, \n",
    "UN = Unclassifiable Statement, \n",
    "CP = Cover Page\n",
    "\"\"\"\n",
    "\n",
    "# Interest : CI,BS,CF,EQ"
   ]
  },
  {
   "cell_type": "code",
   "execution_count": null,
   "metadata": {},
   "outputs": [],
   "source": []
  }
 ],
 "metadata": {
  "kernelspec": {
   "display_name": "base",
   "language": "python",
   "name": "python3"
  },
  "language_info": {
   "codemirror_mode": {
    "name": "ipython",
    "version": 3
   },
   "file_extension": ".py",
   "mimetype": "text/x-python",
   "name": "python",
   "nbconvert_exporter": "python",
   "pygments_lexer": "ipython3",
   "version": "3.9.13"
  },
  "orig_nbformat": 4
 },
 "nbformat": 4,
 "nbformat_minor": 2
}
